{
 "cells": [
  {
   "cell_type": "code",
   "execution_count": 25,
   "id": "leading-times",
   "metadata": {},
   "outputs": [],
   "source": [
    "from gensim.models import KeyedVectors"
   ]
  },
  {
   "cell_type": "code",
   "execution_count": 26,
   "id": "alone-reynolds",
   "metadata": {},
   "outputs": [],
   "source": [
    "model1 = KeyedVectors.load_word2vec_format('./GoogleNews-vectors-negative300.bin', binary=True)"
   ]
  },
  {
   "cell_type": "code",
   "execution_count": 27,
   "id": "arctic-adaptation",
   "metadata": {},
   "outputs": [],
   "source": [
    "lis =['good', 'bad']"
   ]
  },
  {
   "cell_type": "code",
   "execution_count": 32,
   "id": "attended-buddy",
   "metadata": {},
   "outputs": [
    {
     "name": "stdout",
     "output_type": "stream",
     "text": [
      "[[('great', 0.7291510105133057), ('bad', 0.7190051078796387), ('terrific', 0.6889115571975708), ('decent', 0.6837348937988281), ('nice', 0.6836092472076416), ('excellent', 0.644292950630188), ('fantastic', 0.6407778263092041), ('better', 0.6120728254318237), ('solid', 0.5806034803390503), ('lousy', 0.5764201879501343), ('wonderful', 0.5726118087768555), ('terrible', 0.5602042078971863), ('Good', 0.5586156249046326), ('tough', 0.558531641960144), ('best', 0.546719491481781), ('alright', 0.541784942150116), ('perfect', 0.5401014089584351), ('strong', 0.539231538772583), ('pretty_darn', 0.5339667201042175), ('really', 0.5286920666694641)], [('good', 0.7190051078796387), ('terrible', 0.6828612089157104), ('horrible', 0.6702598333358765), ('Bad', 0.6698919534683228), ('lousy', 0.6647640466690063), ('crummy', 0.5677819848060608), ('horrid', 0.5651682615280151), ('awful', 0.5527253150939941), ('dreadful', 0.5526429414749146), ('horrendous', 0.5445997714996338), ('nasty', 0.5428845882415771), ('crappy', 0.5408176183700562), ('stupid', 0.5405174493789673), ('poor', 0.535223126411438), ('rotten', 0.5332878828048706), ('ugly', 0.526317298412323), ('iffy', 0.5214958786964417), ('shitty', 0.515649139881134), ('worse', 0.5141046047210693), ('atrocious', 0.5096498727798462)]]\n"
     ]
    }
   ],
   "source": [
    "dic_aspect = []\n",
    "for i in range(len(lis)):\n",
    "    var = model1.most_similar(lis[i], topn=20)\n",
    "    dic_aspect.append(var)   \n",
    "print(dic_aspect)"
   ]
  },
  {
   "cell_type": "code",
   "execution_count": 29,
   "id": "advanced-restriction",
   "metadata": {},
   "outputs": [],
   "source": [
    "daspect=[]\n",
    "for i in range(len(lis)):\n",
    "    for j in range(10):\n",
    "        daspect.append(dic_aspect[i][j][0])      \n",
    "abc = daspect"
   ]
  },
  {
   "cell_type": "code",
   "execution_count": 30,
   "id": "marine-order",
   "metadata": {},
   "outputs": [
    {
     "data": {
      "text/plain": [
       "20"
      ]
     },
     "execution_count": 30,
     "metadata": {},
     "output_type": "execute_result"
    }
   ],
   "source": [
    "len(abc)"
   ]
  },
  {
   "cell_type": "code",
   "execution_count": 31,
   "id": "crazy-demonstration",
   "metadata": {},
   "outputs": [],
   "source": [
    "import  csv\n",
    "count= 0\n",
    "myList=[]\n",
    "with open(\"outsenti.csv\",\"w\") as f:\n",
    "    wr = csv.writer(f,delimiter=',')\n",
    "    for item in abc:\n",
    "        myList.append(item)\n",
    "        count+=1\n",
    "        if(count%10==0):\n",
    "            wr.writerow(myList)\n",
    "            #wr.writerow(['\\n'])\n",
    "            count=0\n",
    "            myList=[]\n",
    "    "
   ]
  },
  {
   "cell_type": "code",
   "execution_count": null,
   "id": "heated-bunny",
   "metadata": {},
   "outputs": [],
   "source": []
  }
 ],
 "metadata": {
  "kernelspec": {
   "display_name": "Python 3",
   "language": "python",
   "name": "python3"
  },
  "language_info": {
   "codemirror_mode": {
    "name": "ipython",
    "version": 3
   },
   "file_extension": ".py",
   "mimetype": "text/x-python",
   "name": "python",
   "nbconvert_exporter": "python",
   "pygments_lexer": "ipython3",
   "version": "3.6.9"
  }
 },
 "nbformat": 4,
 "nbformat_minor": 5
}
