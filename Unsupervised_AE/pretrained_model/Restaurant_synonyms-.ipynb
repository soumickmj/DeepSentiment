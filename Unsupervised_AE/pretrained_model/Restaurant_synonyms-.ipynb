{
 "cells": [
  {
   "cell_type": "markdown",
   "id": "reserved-warrior",
   "metadata": {},
   "source": [
    "#Gensim  code https://radimrehurek.com/gensim/"
   ]
  },
  {
   "cell_type": "code",
   "execution_count": null,
   "id": "bibliographic-today",
   "metadata": {},
   "outputs": [],
   "source": [
    "from gensim.models import KeyedVectors"
   ]
  },
  {
   "cell_type": "code",
   "execution_count": 21,
   "id": "alone-reynolds",
   "metadata": {},
   "outputs": [],
   "source": [
    "#Gensim  code https://radimrehurek.com/gensim/\n",
    "model1 = KeyedVectors.load_word2vec_format('./GoogleNews-vectors-negative300.bin', binary=True)"
   ]
  },
  {
   "cell_type": "code",
   "execution_count": 22,
   "id": "arctic-adaptation",
   "metadata": {},
   "outputs": [],
   "source": [
    "lis =['location', 'drinks', 'food', 'ambience', 'service']"
   ]
  },
  {
   "cell_type": "code",
   "execution_count": 80,
   "id": "attended-buddy",
   "metadata": {},
   "outputs": [
    {
     "name": "stdout",
     "output_type": "stream",
     "text": [
      "[[('locale', 0.6732621192932129), ('locations', 0.6393399238586426), ('proximity', 0.6181362867355347), ('www.multimediagames.com_Investors', 0.6168996095657349), ('geographical_location', 0.5977996587753296), ('centrally_located', 0.5818368196487427), ('EKG_varies_depending', 0.5504297614097595), ('Location', 0.5448458194732666), ('close_proximity', 0.5262300372123718), ('Correctly_identifying', 0.5261858105659485)], [('drink', 0.8052949905395508), ('beverages', 0.7642966508865356), ('alcoholic_drinks', 0.7189463376998901), ('soft_drinks', 0.6948572397232056), ('beers', 0.6736067533493042), ('beer', 0.668931245803833), ('beverage', 0.6665424108505249), ('Drinks', 0.663141131401062), ('alcoholic_drink', 0.6617254614830017), ('soda', 0.6503926515579224)], [('foods', 0.6804922223091125), ('Food', 0.6538904905319214), ('foodstuffs', 0.6425829529762268), ('meals', 0.6166686415672302), ('food_stuffs', 0.5928642153739929), ('nourishing_meals', 0.5847609043121338), ('foodstuff', 0.5835224986076355), ('staple_foods', 0.5535789132118225), ('nutritious', 0.5466451048851013), ('meal', 0.5433712601661682)], [('ambiance', 0.8910558223724365), ('vibe', 0.6709665656089783), ('soothing_ambience', 0.6692383885383606), ('relaxing_ambience', 0.6598925590515137), ('cozy_ambience', 0.6595953702926636), ('atmosphere', 0.6330586671829224), ('rustic_charm', 0.6329550743103027), ('cozy_ambiance', 0.6248434782028198), ('décor', 0.6230335235595703), ('homely_atmosphere', 0.6144281625747681)], [('services', 0.6880398988723755), ('ser_vice', 0.6197038888931274), ('sevice', 0.5948099493980408), ('servce', 0.5434145927429199), ('serivce', 0.5427263975143433), ('service.The', 0.542389988899231), ('Service', 0.5327873826026917), ('sevices', 0.5212498903274536), ('servies', 0.501081109046936), ('servic', 0.4864047169685364)]]\n"
     ]
    }
   ],
   "source": [
    "dic_aspect = []\n",
    "for i in range(len(lis)):\n",
    "    #Gensim  code https://radimrehurek.com/gensim/\n",
    "    var = model1.most_similar(lis[i], topn=10)\n",
    "    dic_aspect.append(var)   \n",
    "print(dic_aspect)"
   ]
  },
  {
   "cell_type": "code",
   "execution_count": null,
   "id": "olive-television",
   "metadata": {},
   "outputs": [],
   "source": [
    "daspect=[]\n",
    "for i in range(len(lis)):\n",
    "    for j in range(10):\n",
    "        daspect.append(dic_aspect[i][j][0])      \n",
    "abc = daspect"
   ]
  },
  {
   "cell_type": "code",
   "execution_count": null,
   "id": "marine-order",
   "metadata": {},
   "outputs": [],
   "source": [
    "len(abc)"
   ]
  },
  {
   "cell_type": "code",
   "execution_count": null,
   "id": "crazy-demonstration",
   "metadata": {},
   "outputs": [],
   "source": [
    "import  csv\n",
    "count= 0\n",
    "myList=[]\n",
    "with open(\"outrest.csv\",\"w\") as f:\n",
    "    wr = csv.writer(f,delimiter=',')\n",
    "    for item in abc:\n",
    "        myList.append(item)\n",
    "        count+=1\n",
    "        if(count%10==0):\n",
    "            wr.writerow(myList)\n",
    "            count=0\n",
    "            myList=[]\n",
    "    "
   ]
  },
  {
   "cell_type": "code",
   "execution_count": null,
   "id": "spoken-mobility",
   "metadata": {},
   "outputs": [],
   "source": []
  }
 ],
 "metadata": {
  "kernelspec": {
   "display_name": "Python 3",
   "language": "python",
   "name": "python3"
  },
  "language_info": {
   "codemirror_mode": {
    "name": "ipython",
    "version": 3
   },
   "file_extension": ".py",
   "mimetype": "text/x-python",
   "name": "python",
   "nbconvert_exporter": "python",
   "pygments_lexer": "ipython3",
   "version": "3.6.9"
  }
 },
 "nbformat": 4,
 "nbformat_minor": 5
}
