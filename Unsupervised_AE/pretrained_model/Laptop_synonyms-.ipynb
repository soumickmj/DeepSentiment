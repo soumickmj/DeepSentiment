{
 "cells": [
  {
   "cell_type": "markdown",
   "id": "executive-august",
   "metadata": {},
   "source": [
    "#Gensim  code https://radimrehurek.com/gensim/\n"
   ]
  },
  {
   "cell_type": "code",
   "execution_count": 1,
   "id": "cosmetic-wildlife",
   "metadata": {},
   "outputs": [],
   "source": [
    "from gensim.models import KeyedVectors"
   ]
  },
  {
   "cell_type": "code",
   "execution_count": null,
   "id": "given-export",
   "metadata": {},
   "outputs": [],
   "source": [
    "model2 = KeyedVectors.load_word2vec_format('./GoogleNews-vectors-negative300.bin', binary=True)"
   ]
  },
  {
   "cell_type": "code",
   "execution_count": 9,
   "id": "unlike-level",
   "metadata": {},
   "outputs": [],
   "source": [
    "lis =['Support', 'OS', 'Display', 'Battery', 'Company','Mouse','Software','Keyboard']"
   ]
  },
  {
   "cell_type": "code",
   "execution_count": 139,
   "id": "transsexual-wallpaper",
   "metadata": {},
   "outputs": [
    {
     "name": "stdout",
     "output_type": "stream",
     "text": [
      "[[('support', 0.6044273376464844), ('Offering_Moms', 0.5668128728866577), ('Suport', 0.558072566986084), ('TOPS_Weight_Loss', 0.5429812073707581), ('Griefshare_#:##-#:##_pm', 0.5313532948493958), ('Help', 0.5289344191551208), ('Dahlonega_Breast_Cancer', 0.5287456512451172), ('Visual_Impaired', 0.5266826748847961), ('SUPPORT', 0.521537184715271), ('NFFF_Full_Throttle', 0.5189603567123413), ('Supports', 0.5138009786605835), ('James_Areida_Education', 0.5105572938919067), ('GriefShare_Recovery_Seminar', 0.5084753036499023), ('Supporting', 0.5005948543548584), ('Chatting_Needles_1', 0.4991834759712219), ('Caring_Connections_Cancer', 0.4991045594215393), ('Assistance', 0.498787522315979), ('Job_Finders', 0.4972141981124878), ('Visits_Wounded', 0.49639129638671875), ('Carer_Support', 0.4922487735748291), ('Making_Headway', 0.48973268270492554), ('Prioritizes', 0.4892597198486328), ('Breastfeeding_Support', 0.4844890236854553), ('MOMS_Club_Moms', 0.4836575388908386), ('Deployed_Soldiers', 0.482965886592865), ('SourceLabs_Self', 0.48096996545791626), ('Sponsors_Sunbelt_Software', 0.47992536425590515), ('Shifts_Toward', 0.4796942174434662), ('FATHERS_SUPPORT_GROUP', 0.4792632460594177), ('Poll_Shows_Support', 0.4788523018360138)], [('Kellog_Brown', 0.48892125487327576), ('nurse_Carolyn_Booke', 0.486494779586792), ('Kellogg', 0.4845995306968689), ('Kellog', 0.44119465351104736), ('Root_KBR_subsidiary', 0.44041046500205994), ('&_Root_KBR', 0.4382648766040802), ('Root_KBR', 0.43075039982795715), ('Brown', 0.42553722858428955), ('LaDuke', 0.41111257672309875), ('Baker', 0.4072399139404297), ('Burdock', 0.40692466497421265), ('Seely', 0.404788613319397), ('Stout', 0.4047245383262634), ('Wiley', 0.4034299850463867), ('Swanson', 0.402784138917923), ('Halliburton', 0.4019533097743988), ('Grizwald', 0.4004541039466858), ('Machowicz', 0.39887404441833496), ('Krummrich', 0.3975830674171448), ('Angell', 0.39696204662323), ('son_Pathik_Tik', 0.3952324390411377), ('Carl_Bolander', 0.395067036151886), ('Boehnlein', 0.39494046568870544), ('Thorp', 0.39232778549194336), ('Wilcox', 0.3920619785785675), ('Rose_Wide_Angle', 0.39171847701072693), ('Sickman', 0.38878604769706726), ('Hoeye', 0.38790661096572876), ('Bechtel', 0.38765788078308105), ('Jubeck', 0.38628527522087097)], [('Displays', 0.7002285718917847), ('SunFab_Solar', 0.6255207061767578), ('Avatron_Air', 0.6177475452423096), ('LCD_Liquid_Crystal', 0.6167634725570679), ('display', 0.5974612832069397), ('Microdisplay', 0.5800710916519165), ('Transflective', 0.5793938636779785), ('Driver_Model_WDDM', 0.5771471261978149), ('LED_Backlighting', 0.5708283185958862), ('displays', 0.5702035427093506), ('LED_Backlit_LCD', 0.5688666701316833), ('OLED_Displays', 0.5634337663650513), ('World_Thinnest', 0.5616246461868286), ('Driver_IC_DDI', 0.5601131916046143), ('LCD_Display', 0.5591173768043518), ('LCD_Panels', 0.5572544932365417), ('Display_Panels', 0.5568346977233887), ('LED_Backlit', 0.5563564300537109), ('Plasma_Displays', 0.555655837059021), ('LCD_Displays', 0.5531810522079468), ('LED_Backlight', 0.5515633821487427), ('ST_Liquid_Crystal', 0.5503822565078735), ('ASV_LCD', 0.5478804707527161), ('Front_Projector', 0.5466009974479675), ('VGA_TFT', 0.5454901456832886), ('Active_Matrix', 0.5451760292053223), ('Rear_Projection', 0.5444382429122925), ('Rollable', 0.5430896878242493), ('OLED_Display', 0.5426560044288635), ('Gesture_Recognition', 0.5396952033042908)], [('battery', 0.6153246164321899), ('Cell_Manufacture', 0.5737485885620117), ('Assisted_Passive_BAP', 0.5265272855758667), ('Rechargeable_Li_ion', 0.5219898223876953), ('Li_Polymer', 0.5196304321289062), ('Lithium_Ion_battery', 0.5146516561508179), ('Neuropsychological_Test', 0.510379433631897), ('Batteries', 0.5100001692771912), ('batteries', 0.5093342661857605), ('Warrie_Price', 0.5052626132965088), ('Dr._Ake_Almgren', 0.5038042068481445), ('Lithium_polymer', 0.5021120309829712), ('Lithium_Ion_Battery', 0.5010852813720703), ('Rechargeables', 0.49608859419822693), ('Lithium_Ion_Polymer', 0.4948757290840149), ('Li_Ion', 0.4919552505016327), ('Battery_Pack', 0.49143728613853455), ('Battery_Charger', 0.48991474509239197), ('Rechargeable_Battery', 0.4897819757461548), ('rechargeable_Li_ion', 0.48437273502349854), ('Lithium_ion_battery', 0.4822194576263428), ('mAh_Lithium_Ion', 0.48096993565559387), ('goalkeeper_Dusty_Hudock', 0.4798559546470642), ('Rechargeable_battery', 0.4788816571235657), ('keeper_Dusty_Hudock', 0.47624602913856506), ('Fuel_Cell_Chemicals', 0.47569727897644043), ('rechargeable_Lithium', 0.474408894777298), ('RichardSolo', 0.4733191728591919), ('lithium_Ion', 0.47214803099632263), ('include_Intelligent_Lighting', 0.4714256227016449)], [('Companys', 0.7082629799842834), ('theCompany', 0.6766377687454224), ('CompanyaEUR_TM_s', 0.6228938102722168), ('Companyâ_€_™', 0.6048694849014282), ('TheCompany', 0.5658086538314819), ('thecompany', 0.5655120611190796), ('Corporation', 0.5487686395645142), ('company', 0.5452556610107422), ('theacquisition', 0.5445191860198975), ('MonArc_Corporation', 0.5342220067977905), ('Issuer', 0.5310069918632507), ('Bri_Chem', 0.5300021171569824), ('Tiens_USA', 0.5276302695274353), ('Abu_Dhabi_Airports_CompanyAbu', 0.5218254923820496), ('Wah_Sang', 0.5200271606445312), ('EnerTeck_Corporation', 0.5186766386032104), ('Enerchem', 0.5167590975761414), ('Compnay', 0.515705943107605), ('CompX', 0.5126855373382568), ('Registrant', 0.510295033454895), ('DeeThree', 0.5085228681564331), ('Ausam', 0.5084224343299866), ('Yellowcake_Mining_Inc.', 0.5076674818992615), ('Co._Ltd.', 0.5070362091064453), ('STEN_Corporation', 0.5069558620452881), ('Redishred', 0.506810188293457), ('Bexil', 0.5067100524902344), ('iii', 0.5052404999732971), ('Co.', 0.5049753189086914), ('Sandspring_Resources_Ltd.', 0.5039021968841553)], [('Logitech_MX_Air', 0.5675958395004272), ('Rechargeable_Cordless_Air', 0.5434382557868958), ('Gyration_Air', 0.542481541633606), ('G7_Laser_Cordless', 0.5276244878768921), ('Fancy_Rat', 0.5091447830200195), ('Logitech_M###', 0.5089646577835083), ('Ergonomic_Computer', 0.5068337321281433), ('Fidget', 0.5056753754615784), ('Smartfish_ErgoMotion', 0.4974256455898285), ('Monkey', 0.495938777923584), ('KVM_Keyboard_Video', 0.4950670599937439), ('mouse', 0.4949929118156433), ('SILVER_SEAL_TM', 0.49093663692474365), ('Hamster', 0.49041682481765747), ('Bunny', 0.48899292945861816), ('Logitech_MX_Revolution', 0.48541897535324097), ('Kensington_SlimBlade', 0.4801435172557831), ('Rat', 0.47109389305114746), ('Fairy', 0.469167023897171), ('MoGo_Bluetooth', 0.46583104133605957), ('Creature', 0.4627629816532135), ('Critter', 0.4615838825702667), ('Frog', 0.46074986457824707), ('Gepetto', 0.4600478410720825), ('Lemur', 0.4598011076450348), ('Touch_Mouse', 0.4589400291442871), ('Mouses', 0.45717185735702515), ('Wybie', 0.4559846520423889), ('Despereaux_Matthew_Broderick', 0.4554290771484375), ('Weenie', 0.45365187525749207)], [('software', 0.7103714346885681), ('QuickArrow_Software', 0.7002077102661133), ('Razorsight_Software', 0.6802892684936523), ('Sofware', 0.6732233166694641), ('FlexNet_Publisher', 0.5732459425926208), ('Application_Lifecycle_Management', 0.5591124296188354), ('MagicDraw_UML', 0.5540300011634827), ('Virto_Alert_Customizer', 0.5525830984115601), ('NextAxiom_Nimbus_Nimsoft_Niyuta', 0.5502356290817261), ('Inxight_Software', 0.5463089346885681), ('Relational_Database', 0.5458396673202515), ('Automation', 0.5444425344467163), ('Perforce_Software', 0.5434381365776062), ('Agilix_Labs', 0.5420681238174438), ('UML_modeling', 0.5390962362289429), ('Grid_Dynamics_GRIDtoday', 0.5379696488380432), ('Serena_TeamTrack', 0.5368655323982239), ('ProSoft', 0.5358282327651978), ('Vovici_Online_Survey', 0.5350591540336609), ('VisionShare_Secure_Exchange', 0.5336219072341919), ('Atlassian_JIRA', 0.5332609415054321), ('Neterion_Netuitive_Neverfail_Nexaweb', 0.5328023433685303), ('Agitar_Software', 0.5320194959640503), ('Softwares', 0.5319511890411377), ('Integration_Middleware', 0.5292930603027344), ('InduSoft', 0.5287224054336548), ('ERP5', 0.5282517075538635), ('FlexNet_Manager', 0.5273966789245605), ('Red_Hat_Roaring_Penguin', 0.5270688533782959), ('APA_Format', 0.5265449285507202)], [('keyboard', 0.7165083885192871), ('Keyboards', 0.6916384696960449), ('Microsoft_Natural_Ergonomic', 0.6423061490058899), ('Bluetooth_Keyboard', 0.6189922094345093), ('Trackpad', 0.617417573928833), ('Wireless_Keyboard', 0.6160746216773987), ('Touchpad', 0.6142173409461975), ('Gaming_Keyboard', 0.6135632991790771), ('Logitech_diNovo_Edge', 0.6096587181091309), ('Optical_Mouse', 0.6045429110527039), ('Cordless_Laser_Mouse', 0.5975394248962402), ('keyboards', 0.5965911149978638), ('Smartfish_ErgoMotion', 0.5937209129333496), ('Saitek_Eclipse', 0.5912706851959229), ('Gamepad', 0.587214469909668), ('Multimedia_Keyboard', 0.5869947671890259), ('Touch_Mouse', 0.5867043137550354), ('Keypad', 0.586544394493103), ('Scroll_Wheel', 0.5837621092796326), ('USB_MIDI', 0.5828862190246582), ('Touch_Pad', 0.5800949335098267), ('SteelSeries_Shift', 0.580078125), ('SteelSeries_#Gv#', 0.5740193128585815), ('Logitech_MX', 0.5719426870346069), ('Logitech_V###', 0.57066410779953), ('Trackball', 0.569665253162384), ('Numeric_Keypad', 0.567244291305542), ('Kensington_Ci##', 0.5650530457496643), ('Logitech_MX_Air', 0.5639083385467529), ('Saitek_Cyborg', 0.5615003705024719)]]\n"
     ]
    }
   ],
   "source": [
    "dic_aspect = []\n",
    "for i in range(len(lis)):\n",
    "    var = model2.most_similar(lis[i], topn=30)\n",
    "    dic_aspect.append(var)\n",
    "print(dic_aspect)"
   ]
  },
  {
   "cell_type": "code",
   "execution_count": 11,
   "id": "specialized-recipient",
   "metadata": {},
   "outputs": [],
   "source": [
    "daspect=[]\n",
    "for i in range(len(lis)):\n",
    "    for j in range(20):\n",
    "        daspect.append(dic_aspect[i][j][0])\n",
    "abc = daspect"
   ]
  },
  {
   "cell_type": "code",
   "execution_count": 12,
   "id": "unexpected-natural",
   "metadata": {},
   "outputs": [
    {
     "data": {
      "text/plain": [
       "160"
      ]
     },
     "execution_count": 12,
     "metadata": {},
     "output_type": "execute_result"
    }
   ],
   "source": [
    "len(abc)"
   ]
  },
  {
   "cell_type": "code",
   "execution_count": 13,
   "id": "separate-queensland",
   "metadata": {},
   "outputs": [],
   "source": [
    "import  csv\n",
    "count= 0\n",
    "myList=[]\n",
    "with open(\"outlap.csv\",\"w\") as f:\n",
    "    wr = csv.writer(f,delimiter=',')\n",
    "    for item in abc:\n",
    "        myList.append(item)\n",
    "        count+=1\n",
    "        if(count%20==0):\n",
    "            wr.writerow(myList)\n",
    "            #wr.writerow(['\\n'])\n",
    "            count=0\n",
    "            myList=[]"
   ]
  }
 ],
 "metadata": {
  "kernelspec": {
   "display_name": "Python 3",
   "language": "python",
   "name": "python3"
  },
  "language_info": {
   "codemirror_mode": {
    "name": "ipython",
    "version": 3
   },
   "file_extension": ".py",
   "mimetype": "text/x-python",
   "name": "python",
   "nbconvert_exporter": "python",
   "pygments_lexer": "ipython3",
   "version": "3.6.9"
  }
 },
 "nbformat": 4,
 "nbformat_minor": 5
}
